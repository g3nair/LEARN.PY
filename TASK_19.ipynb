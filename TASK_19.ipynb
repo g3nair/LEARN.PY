{
  "nbformat": 4,
  "nbformat_minor": 0,
  "metadata": {
    "colab": {
      "name": "TASK 19.ipynb",
      "provenance": [],
      "include_colab_link": true
    },
    "kernelspec": {
      "name": "python3",
      "display_name": "Python 3"
    },
    "language_info": {
      "name": "python"
    }
  },
  "cells": [
    {
      "cell_type": "markdown",
      "metadata": {
        "id": "view-in-github",
        "colab_type": "text"
      },
      "source": [
        "<a href=\"https://colab.research.google.com/github/gaya3-b/LEARN.PY/blob/main/TASK_19.ipynb\" target=\"_parent\"><img src=\"https://colab.research.google.com/assets/colab-badge.svg\" alt=\"Open In Colab\"/></a>"
      ]
    },
    {
      "cell_type": "markdown",
      "metadata": {
        "id": "6J-6GvX2JUcC"
      },
      "source": [
        "1. Create a DataFrame by passing a random numpy array,with a dateted index and labelled columns and display,\n",
        "  - where values of the column A is greater than 0.\n",
        "  - where values of the columns A is greater than 0 and B greater than -1.\n",
        "  - where values of the columns A  is greater than 0 or B greater than -1.\n"
      ]
    },
    {
      "cell_type": "code",
      "metadata": {
        "id": "xX-5VikpLcHL",
        "outputId": "cb0ab432-7a9d-48f1-c5b5-3babe6139d97",
        "colab": {
          "base_uri": "https://localhost:8080/"
        }
      },
      "source": [
        "#please type your code below this line.\n",
        "import numpy as np\n",
        "import pandas as pd\n",
        "datetie= pd.date_range('2021-08-24',periods=8)\n",
        "df=pd.DataFrame(np.random.randn(8,6), index=datetie, columns=list('ABCDEF'))\n",
        "print(df)\n",
        "print(\"\\nValues of the column A is greater than 0:\\n\",df[df['A']>0])\n",
        "print(\"\\nValues of the columns A is greater than 0 and B greater than -1:\\n\",df[(df['A']>0) & (df['B']>-1)])\n",
        "print(\"\\nValues of the columns A is greater than 0 or B greater than -1:\\n\",df[(df['A']>0) | (df['B']>-1)])"
      ],
      "execution_count": 1,
      "outputs": [
        {
          "output_type": "stream",
          "name": "stdout",
          "text": [
            "                   A         B         C         D         E         F\n",
            "2021-08-24 -0.861891  0.350593  2.072449  0.347878  0.399846 -0.520882\n",
            "2021-08-25  0.353629 -0.951091  0.705340  0.780886 -0.911792  0.385381\n",
            "2021-08-26 -1.576359  0.217006  0.312163 -1.081220 -0.033469 -2.056374\n",
            "2021-08-27  0.261782 -2.185033 -0.090473  0.455536  1.204578 -0.328005\n",
            "2021-08-28 -0.411171  1.094126  0.342520 -0.120623  1.142513 -0.270607\n",
            "2021-08-29 -0.519201  1.410941 -1.739327 -1.575807  0.798112  0.392717\n",
            "2021-08-30  0.464131 -0.468846 -0.011348 -0.619775 -0.694928  0.283373\n",
            "2021-08-31  1.086140  0.211614  0.042719  0.479701  0.455358 -0.145160\n",
            "\n",
            "Values of the column A is greater than 0:\n",
            "                    A         B         C         D         E         F\n",
            "2021-08-25  0.353629 -0.951091  0.705340  0.780886 -0.911792  0.385381\n",
            "2021-08-27  0.261782 -2.185033 -0.090473  0.455536  1.204578 -0.328005\n",
            "2021-08-30  0.464131 -0.468846 -0.011348 -0.619775 -0.694928  0.283373\n",
            "2021-08-31  1.086140  0.211614  0.042719  0.479701  0.455358 -0.145160\n",
            "\n",
            "Values of the columns A is greater than 0 and B greater than -1:\n",
            "                    A         B         C         D         E         F\n",
            "2021-08-25  0.353629 -0.951091  0.705340  0.780886 -0.911792  0.385381\n",
            "2021-08-30  0.464131 -0.468846 -0.011348 -0.619775 -0.694928  0.283373\n",
            "2021-08-31  1.086140  0.211614  0.042719  0.479701  0.455358 -0.145160\n",
            "\n",
            "Values of the columns A is greater than 0 or B greater than -1:\n",
            "                    A         B         C         D         E         F\n",
            "2021-08-24 -0.861891  0.350593  2.072449  0.347878  0.399846 -0.520882\n",
            "2021-08-25  0.353629 -0.951091  0.705340  0.780886 -0.911792  0.385381\n",
            "2021-08-26 -1.576359  0.217006  0.312163 -1.081220 -0.033469 -2.056374\n",
            "2021-08-27  0.261782 -2.185033 -0.090473  0.455536  1.204578 -0.328005\n",
            "2021-08-28 -0.411171  1.094126  0.342520 -0.120623  1.142513 -0.270607\n",
            "2021-08-29 -0.519201  1.410941 -1.739327 -1.575807  0.798112  0.392717\n",
            "2021-08-30  0.464131 -0.468846 -0.011348 -0.619775 -0.694928  0.283373\n",
            "2021-08-31  1.086140  0.211614  0.042719  0.479701  0.455358 -0.145160\n"
          ]
        }
      ]
    },
    {
      "cell_type": "markdown",
      "metadata": {
        "id": "1WAf9SbwLp6o"
      },
      "source": [
        "2. Create a DataFrame by passing a random numpy array,with a dateted index and labelled columns and check if ,\n",
        "  - the values of the table are greater the zero or not.\n",
        "  - the value at the postion (0,0) is equal to NaN or not."
      ]
    },
    {
      "cell_type": "code",
      "metadata": {
        "id": "rBrt8pMeM2Q5",
        "outputId": "d313a4d5-41b8-4d86-a7df-2550276e5fc2",
        "colab": {
          "base_uri": "https://localhost:8080/"
        }
      },
      "source": [
        "#please type your code below this line.\n",
        "import numpy as np\n",
        "import pandas as pd\n",
        "datetie= pd.date_range('2021-08-24',periods=8)\n",
        "df=pd.DataFrame(np.random.randn(8,6), index=datetie, columns=list('ABCDEF'))\n",
        "print(df)\n",
        "print(\"\\nValues greater the zero or not:\\n\",df>0)\n",
        "print(\"\\nValue at the position (0,0) is equal to NaN or not:\\n\",df.iloc[[0],[0]] =='NaN')"
      ],
      "execution_count": 2,
      "outputs": [
        {
          "output_type": "stream",
          "name": "stdout",
          "text": [
            "                   A         B         C         D         E         F\n",
            "2021-08-24  2.043084 -0.833756 -1.040960 -1.163908 -1.030540 -1.953721\n",
            "2021-08-25 -1.105458 -0.883597  1.118935  0.246568 -0.039907  0.350912\n",
            "2021-08-26 -0.328446 -0.588639 -0.802312  1.694269  0.962556 -0.390274\n",
            "2021-08-27  0.701703 -0.313770  0.628949 -0.113506 -1.693169  0.618151\n",
            "2021-08-28  0.272254  0.753283  0.698060  0.020944  0.889467  0.610877\n",
            "2021-08-29  0.669079  0.003189  0.379694 -0.111261  0.332655 -0.813832\n",
            "2021-08-30  0.113640 -1.991960 -1.128731 -0.163091  1.897140  1.394900\n",
            "2021-08-31  0.716058  0.341614  0.068854 -1.861194  1.004740  0.516051\n",
            "\n",
            "Values greater the zero or not:\n",
            "                 A      B      C      D      E      F\n",
            "2021-08-24   True  False  False  False  False  False\n",
            "2021-08-25  False  False   True   True  False   True\n",
            "2021-08-26  False  False  False   True   True  False\n",
            "2021-08-27   True  False   True  False  False   True\n",
            "2021-08-28   True   True   True   True   True   True\n",
            "2021-08-29   True   True   True  False   True  False\n",
            "2021-08-30   True  False  False  False   True   True\n",
            "2021-08-31   True   True   True  False   True   True\n",
            "\n",
            "Value at the position (0,0) is equal to NaN or not:\n",
            "                 A\n",
            "2021-08-24  False\n"
          ]
        }
      ]
    },
    {
      "cell_type": "markdown",
      "metadata": {
        "id": "IfM9XYmiNaKB"
      },
      "source": [
        "3. Create a DataFrame by passing a random numpy array,with a dateted index and labelled columns and,\n",
        "  - reindex the index with even dates.\n",
        "  - create a column with values NaN.\n",
        "  - make the values of the first two index of the newly created column as 1"
      ]
    },
    {
      "cell_type": "code",
      "metadata": {
        "id": "F-w8kEfaORg3",
        "outputId": "e90f5bf2-47fc-4d49-a45f-5d13f757a8a5",
        "colab": {
          "base_uri": "https://localhost:8080/"
        }
      },
      "source": [
        "#please type your answer below this line.\n",
        "import numpy as np\n",
        "import pandas as pd\n",
        "datetie= pd.date_range('2021-08-24',periods=8)\n",
        "df=pd.DataFrame(np.random.randn(8,6), index=datetie, columns=list('ABCDEF'))\n",
        "print(df)\n",
        "df1 = df.reindex(df.index[0::2])\n",
        "print(\"\\nIndex with even dates:\\n\",df1)\n",
        "df1['G'] = 'NaN'\n",
        "print(\"\\nNew column with values NaN:\\n\",df1)\n",
        "df1.loc[df1.index[:2],'G']=1\n",
        "print(\"\\nFirst two index of the newly created column as 1:\\n\",df1)"
      ],
      "execution_count": 3,
      "outputs": [
        {
          "output_type": "stream",
          "name": "stdout",
          "text": [
            "                   A         B         C         D         E         F\n",
            "2021-08-24  0.793370 -1.268910  0.112724  0.872533  0.161058 -0.588455\n",
            "2021-08-25  0.164372  0.145765 -0.251890 -1.198180 -1.745561 -0.596228\n",
            "2021-08-26  0.618385 -0.629787  0.122773  1.268594 -1.998805  0.145745\n",
            "2021-08-27  0.617770  2.293616  0.814224 -0.139950 -0.205737 -0.518695\n",
            "2021-08-28  0.209970  0.181999 -1.417009 -0.116376  0.307272 -0.863752\n",
            "2021-08-29  0.994921  1.307445 -0.466950  0.039710  1.269248 -0.641534\n",
            "2021-08-30  0.296148  0.076178 -0.076304  1.512359 -0.164258 -1.411508\n",
            "2021-08-31 -1.033941 -0.920244 -0.085755  0.201234 -2.042309  0.615676\n",
            "\n",
            "Index with even dates:\n",
            "                    A         B         C         D         E         F\n",
            "2021-08-24  0.793370 -1.268910  0.112724  0.872533  0.161058 -0.588455\n",
            "2021-08-26  0.618385 -0.629787  0.122773  1.268594 -1.998805  0.145745\n",
            "2021-08-28  0.209970  0.181999 -1.417009 -0.116376  0.307272 -0.863752\n",
            "2021-08-30  0.296148  0.076178 -0.076304  1.512359 -0.164258 -1.411508\n",
            "\n",
            "New column with values NaN:\n",
            "                    A         B         C         D         E         F    G\n",
            "2021-08-24  0.793370 -1.268910  0.112724  0.872533  0.161058 -0.588455  NaN\n",
            "2021-08-26  0.618385 -0.629787  0.122773  1.268594 -1.998805  0.145745  NaN\n",
            "2021-08-28  0.209970  0.181999 -1.417009 -0.116376  0.307272 -0.863752  NaN\n",
            "2021-08-30  0.296148  0.076178 -0.076304  1.512359 -0.164258 -1.411508  NaN\n",
            "\n",
            "First two index of the newly created column as 1:\n",
            "                    A         B         C         D         E         F    G\n",
            "2021-08-24  0.793370 -1.268910  0.112724  0.872533  0.161058 -0.588455    1\n",
            "2021-08-26  0.618385 -0.629787  0.122773  1.268594 -1.998805  0.145745    1\n",
            "2021-08-28  0.209970  0.181999 -1.417009 -0.116376  0.307272 -0.863752  NaN\n",
            "2021-08-30  0.296148  0.076178 -0.076304  1.512359 -0.164258 -1.411508  NaN\n"
          ]
        }
      ]
    }
  ]
}