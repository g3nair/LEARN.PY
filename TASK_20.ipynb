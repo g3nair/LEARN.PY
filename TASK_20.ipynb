{
  "nbformat": 4,
  "nbformat_minor": 0,
  "metadata": {
    "colab": {
      "name": "TASK 20.ipynb",
      "provenance": [],
      "include_colab_link": true
    },
    "kernelspec": {
      "name": "python3",
      "display_name": "Python 3"
    },
    "language_info": {
      "name": "python"
    }
  },
  "cells": [
    {
      "cell_type": "markdown",
      "metadata": {
        "id": "view-in-github",
        "colab_type": "text"
      },
      "source": [
        "<a href=\"https://colab.research.google.com/github/gaya3-b/LEARN.PY/blob/main/TASK_20.ipynb\" target=\"_parent\"><img src=\"https://colab.research.google.com/assets/colab-badge.svg\" alt=\"Open In Colab\"/></a>"
      ]
    },
    {
      "cell_type": "markdown",
      "metadata": {
        "id": "8LIfdcjDWmC3"
      },
      "source": [
        "1. In the data given below,\n",
        "  - find the boolean mask where value is nan\n",
        "  - remove the row with missing data.\n"
      ]
    },
    {
      "cell_type": "markdown",
      "metadata": {
        "id": "VPCGISRTbYPz"
      },
      "source": [
        ""
      ]
    },
    {
      "cell_type": "code",
      "metadata": {
        "colab": {
          "base_uri": "https://localhost:8080/"
        },
        "id": "VsZQYRqXXHpG",
        "outputId": "0717f887-bef9-41ee-eb8b-069e9194a50e"
      },
      "source": [
        "import pandas as pd\n",
        "import numpy as np\n",
        "dates = pd.date_range('20210101',periods=6)\n",
        "df = pd.DataFrame(np.random.randn(6,4), index=dates,columns=list('ABCD'))\n",
        "s1 = pd.Series([1,2,3,4,5,6], index=pd.date_range('20130102', periods=6))\n",
        "df[\"F\"]=s1\n",
        "df1=df.reindex(index=dates[0:4], columns=list(df.columns) + ['E'])\n",
        "df1.loc[dates[0]:dates[1],'E'] = 1\n",
        "df1\n",
        "#please provide your answer below this line\n",
        "print(df1)\n",
        "print(\"\\n Boolean mask where value is nan: \\n\",df1.isnull())\n",
        "print(\"\\n Removing the row with missing data: \\n\",df1.dropna())"
      ],
      "execution_count": 2,
      "outputs": [
        {
          "output_type": "stream",
          "name": "stdout",
          "text": [
            "                   A         B         C         D   F    E\n",
            "2021-01-01  2.070944 -1.697907  0.504762 -0.822500 NaN  1.0\n",
            "2021-01-02  0.196715  0.415348  0.112822 -1.708685 NaN  1.0\n",
            "2021-01-03 -0.877881 -1.093220 -1.880768 -0.272665 NaN  NaN\n",
            "2021-01-04  0.593022 -0.514006 -0.844884 -0.258387 NaN  NaN\n",
            "\n",
            " Boolean mask where value is nan: \n",
            "                 A      B      C      D     F      E\n",
            "2021-01-01  False  False  False  False  True  False\n",
            "2021-01-02  False  False  False  False  True  False\n",
            "2021-01-03  False  False  False  False  True   True\n",
            "2021-01-04  False  False  False  False  True   True\n",
            "\n",
            " Removing the row with missing data: \n",
            " Empty DataFrame\n",
            "Columns: [A, B, C, D, F, E]\n",
            "Index: []\n"
          ]
        }
      ]
    },
    {
      "cell_type": "markdown",
      "metadata": {
        "id": "z1sv0aluZhcd"
      },
      "source": [
        "2. In the data given below,fill the missing data with 20."
      ]
    },
    {
      "cell_type": "code",
      "metadata": {
        "colab": {
          "base_uri": "https://localhost:8080/"
        },
        "id": "x3ZHFCeyZ0j2",
        "outputId": "bb24bcb6-a983-4c99-dace-932a6770d8c8"
      },
      "source": [
        "import pandas as pd\n",
        "import numpy as np\n",
        "dates = pd.date_range('20210101',periods=6)\n",
        "df = pd.DataFrame(np.random.randn(6,4), index=dates,columns=list('ABCD'))\n",
        "s1 = pd.Series([1,2,3,4,5,6], index=pd.date_range('20130102', periods=6))\n",
        "df[\"F\"]=s1\n",
        "df1=df.reindex(index=dates[0:4], columns=list(df.columns) + ['E'])\n",
        "df1.loc[dates[0]:dates[1],'E'] = 1\n",
        "df1\n",
        "#please provide your answer below this line\n",
        "print(df1)\n",
        "print(\"\\n Filling the row with missing data with 20: \\n\",df1.fillna(value=20))"
      ],
      "execution_count": 3,
      "outputs": [
        {
          "output_type": "stream",
          "name": "stdout",
          "text": [
            "                   A         B         C         D   F    E\n",
            "2021-01-01  1.308132 -0.001144 -1.966724  1.244410 NaN  1.0\n",
            "2021-01-02 -2.134823  1.041445  1.271828  0.344335 NaN  1.0\n",
            "2021-01-03  1.023003 -1.168243 -1.586869  0.409884 NaN  NaN\n",
            "2021-01-04  1.677573 -0.568373  0.556779 -0.529461 NaN  NaN\n",
            "\n",
            " Filling the row with missing data with 20: \n",
            "                    A         B         C         D     F     E\n",
            "2021-01-01  1.308132 -0.001144 -1.966724  1.244410  20.0   1.0\n",
            "2021-01-02 -2.134823  1.041445  1.271828  0.344335  20.0   1.0\n",
            "2021-01-03  1.023003 -1.168243 -1.586869  0.409884  20.0  20.0\n",
            "2021-01-04  1.677573 -0.568373  0.556779 -0.529461  20.0  20.0\n"
          ]
        }
      ]
    },
    {
      "cell_type": "markdown",
      "metadata": {
        "id": "vMzwvpxcZ3G8"
      },
      "source": [
        "3. From the data given below,\n",
        "  - break the data in to pieces from 0 t0 2 ,3 t0 7\n",
        "  - concatenate the pieces.\n",
        "  - concatenate the pieces along axis 1\n",
        "  - label each as 'a' and 'b' respectively and perform concatenation."
      ]
    },
    {
      "cell_type": "code",
      "metadata": {
        "colab": {
          "base_uri": "https://localhost:8080/"
        },
        "id": "LxGwKPTVbbXV",
        "outputId": "d5ceacf1-7033-41c0-98f5-0ccff6357ce1"
      },
      "source": [
        "import pandas as pd\n",
        "import numpy as np\n",
        "df = pd.DataFrame(np.random.randn(10, 4))\n",
        "df\n",
        "#please provide your answer below this line\n",
        "print(df)\n",
        "pieces=[df[:3],df[3:8]]\n",
        "print(\"\\n Pieces of data from 0 to 2,3 to 7: \\n\",pieces[0],\"\\n\",pieces[1])\n",
        "print(\"\\n Concatenated pieces: \\n\",pd.concat(pieces))\n",
        "print(\"\\n Concatenate the pieces along axis 1:\\n\",pd.concat(pieces,axis=1))\n",
        "a=pieces[0]\n",
        "b=pieces[1]\n",
        "print(\"\\n Concatenation of a and b:\\n\",pd.concat([a,b]))"
      ],
      "execution_count": 4,
      "outputs": [
        {
          "output_type": "stream",
          "name": "stdout",
          "text": [
            "          0         1         2         3\n",
            "0  0.151664 -0.547715 -0.006525  1.182329\n",
            "1  1.420320 -0.267290 -0.432701  0.681372\n",
            "2  0.355679 -0.401691  0.821841  0.311202\n",
            "3  0.533629 -0.412143 -0.967530 -0.894243\n",
            "4 -0.900554  0.581475  0.242746  0.697122\n",
            "5  1.235567  0.196541 -1.842782  1.207412\n",
            "6 -0.058827 -0.262458  1.190355 -0.272912\n",
            "7  0.322700  0.330646  0.617062 -0.564418\n",
            "8  0.477338  1.462833 -0.937464 -0.505906\n",
            "9  1.058036  0.510988  0.059483 -2.538798\n",
            "\n",
            " Pieces of data from 0 to 2,3 to 7: \n",
            "           0         1         2         3\n",
            "0  0.151664 -0.547715 -0.006525  1.182329\n",
            "1  1.420320 -0.267290 -0.432701  0.681372\n",
            "2  0.355679 -0.401691  0.821841  0.311202 \n",
            "           0         1         2         3\n",
            "3  0.533629 -0.412143 -0.967530 -0.894243\n",
            "4 -0.900554  0.581475  0.242746  0.697122\n",
            "5  1.235567  0.196541 -1.842782  1.207412\n",
            "6 -0.058827 -0.262458  1.190355 -0.272912\n",
            "7  0.322700  0.330646  0.617062 -0.564418\n",
            "\n",
            " Concatenated pieces: \n",
            "           0         1         2         3\n",
            "0  0.151664 -0.547715 -0.006525  1.182329\n",
            "1  1.420320 -0.267290 -0.432701  0.681372\n",
            "2  0.355679 -0.401691  0.821841  0.311202\n",
            "3  0.533629 -0.412143 -0.967530 -0.894243\n",
            "4 -0.900554  0.581475  0.242746  0.697122\n",
            "5  1.235567  0.196541 -1.842782  1.207412\n",
            "6 -0.058827 -0.262458  1.190355 -0.272912\n",
            "7  0.322700  0.330646  0.617062 -0.564418\n",
            "\n",
            " Concatenate the pieces along axis 1:\n",
            "           0         1         2  ...         1         2         3\n",
            "0  0.151664 -0.547715 -0.006525  ...       NaN       NaN       NaN\n",
            "1  1.420320 -0.267290 -0.432701  ...       NaN       NaN       NaN\n",
            "2  0.355679 -0.401691  0.821841  ...       NaN       NaN       NaN\n",
            "3       NaN       NaN       NaN  ... -0.412143 -0.967530 -0.894243\n",
            "4       NaN       NaN       NaN  ...  0.581475  0.242746  0.697122\n",
            "5       NaN       NaN       NaN  ...  0.196541 -1.842782  1.207412\n",
            "6       NaN       NaN       NaN  ... -0.262458  1.190355 -0.272912\n",
            "7       NaN       NaN       NaN  ...  0.330646  0.617062 -0.564418\n",
            "\n",
            "[8 rows x 8 columns]\n",
            "\n",
            " Concatenation of a and b:\n",
            "           0         1         2         3\n",
            "0  0.151664 -0.547715 -0.006525  1.182329\n",
            "1  1.420320 -0.267290 -0.432701  0.681372\n",
            "2  0.355679 -0.401691  0.821841  0.311202\n",
            "3  0.533629 -0.412143 -0.967530 -0.894243\n",
            "4 -0.900554  0.581475  0.242746  0.697122\n",
            "5  1.235567  0.196541 -1.842782  1.207412\n",
            "6 -0.058827 -0.262458  1.190355 -0.272912\n",
            "7  0.322700  0.330646  0.617062 -0.564418\n"
          ]
        }
      ]
    },
    {
      "cell_type": "code",
      "metadata": {
        "id": "h290MAgudPQI"
      },
      "source": [
        ""
      ],
      "execution_count": null,
      "outputs": []
    }
  ]
}