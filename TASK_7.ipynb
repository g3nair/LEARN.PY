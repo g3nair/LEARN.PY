{
  "nbformat": 4,
  "nbformat_minor": 0,
  "metadata": {
    "colab": {
      "name": "TASK  7.ipynb",
      "provenance": [],
      "include_colab_link": true
    },
    "kernelspec": {
      "name": "python3",
      "display_name": "Python 3"
    },
    "language_info": {
      "name": "python"
    }
  },
  "cells": [
    {
      "cell_type": "markdown",
      "metadata": {
        "id": "view-in-github",
        "colab_type": "text"
      },
      "source": [
        "<a href=\"https://colab.research.google.com/github/gaya3-b/LEARN.PY/blob/main/TASK_7.ipynb\" target=\"_parent\"><img src=\"https://colab.research.google.com/assets/colab-badge.svg\" alt=\"Open In Colab\"/></a>"
      ]
    },
    {
      "cell_type": "markdown",
      "metadata": {
        "id": "b0V3vwzcydKy"
      },
      "source": [
        "1. Write a program to check whether a  string is palindrome or not using functions. \n",
        "\n",
        "   ( A function is to be created to check whether the string is palindrome and it should give the output true or false to the main program)"
      ]
    },
    {
      "cell_type": "code",
      "metadata": {
        "id": "M2Mi7EOdyxiu",
        "outputId": "8c584dd4-1988-479e-8708-16d946bea9a3",
        "colab": {
          "base_uri": "https://localhost:8080/"
        }
      },
      "source": [
        "#please enter the code below this line.\n",
        "def palindrome(str):\n",
        "  if str[::-1]==str:\n",
        "    print(\"It is a palindrome string!\")\n",
        "  else:\n",
        "    print(\"It is not a palindrome string!\")\n",
        "str=input(\"Enter the string: \")\n",
        "palindrome(str)"
      ],
      "execution_count": 1,
      "outputs": [
        {
          "output_type": "stream",
          "text": [
            "Enter the string: ardra\n",
            "It is a palindrome string!\n"
          ],
          "name": "stdout"
        }
      ]
    },
    {
      "cell_type": "markdown",
      "metadata": {
        "id": "vSiShTyOzEz-"
      },
      "source": [
        "2.  Write a menu driven program to find largest element in L, smallest element, avg of all values, sum of all values in L. All these operation should be performed in different functions and the result should be returned.\n",
        "\n",
        "\n",
        "      L=[23,24,11,90,1,41,9,99,28,56,72]"
      ]
    },
    {
      "cell_type": "code",
      "metadata": {
        "id": "fRtMIw_CzsmO",
        "outputId": "6231aaa8-fa43-4f0c-f47b-c4e3da95ad0f",
        "colab": {
          "base_uri": "https://localhost:8080/"
        }
      },
      "source": [
        "#please enter the code below this line.\n",
        "def largest(l):\n",
        "  large=l[0]\n",
        "  for i in l:\n",
        "    if(i>large):\n",
        "      large=i\n",
        "  return large\n",
        "def smallest(l):\n",
        "  small=l[0]\n",
        "  for i in l:\n",
        "    if(i<small):\n",
        "      small=i\n",
        "    return small\n",
        "def sum(l):\n",
        "  s=0\n",
        "  for i in l:\n",
        "    s=s+i\n",
        "  return s\n",
        "def avg(l):\n",
        "  avg=sum(l)/len(l)\n",
        "  return avg\n",
        "l=[23,24,11,90,1,41,9,99,28,56,72]\n",
        "print(\"The largest number is\",largest(l))\n",
        "print(\"The smallest number is\",smallest(l))\n",
        "print(\"The sum of all values is\",sum(l))\n",
        "print(\"The average of all values is\",avg(l))"
      ],
      "execution_count": 5,
      "outputs": [
        {
          "output_type": "stream",
          "text": [
            "The largest number is 99\n",
            "The smallest number is 23\n",
            "The sum of all values is 454\n",
            "The average of all values is 41.27272727272727\n"
          ],
          "name": "stdout"
        }
      ]
    }
  ]
}