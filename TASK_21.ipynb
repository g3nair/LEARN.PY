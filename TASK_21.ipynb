{
  "nbformat": 4,
  "nbformat_minor": 0,
  "metadata": {
    "colab": {
      "name": "TASK 21.ipynb",
      "provenance": [],
      "include_colab_link": true
    },
    "kernelspec": {
      "name": "python3",
      "display_name": "Python 3"
    },
    "language_info": {
      "name": "python"
    }
  },
  "cells": [
    {
      "cell_type": "markdown",
      "metadata": {
        "id": "view-in-github",
        "colab_type": "text"
      },
      "source": [
        "<a href=\"https://colab.research.google.com/github/gaya3-b/LEARN.PY/blob/main/TASK_21.ipynb\" target=\"_parent\"><img src=\"https://colab.research.google.com/assets/colab-badge.svg\" alt=\"Open In Colab\"/></a>"
      ]
    },
    {
      "cell_type": "markdown",
      "metadata": {
        "id": "wK9sv7fHTnyo"
      },
      "source": [
        "1.  Using the dataset given below,\n",
        "  - Group the given dataset by A and find the sum of the groups.\n",
        "  - Find the 3 least elements from the column D\n",
        "  - Find the 3 largest elements from the Column D which belongs to the group\n",
        "  'bar'."
      ]
    },
    {
      "cell_type": "code",
      "metadata": {
        "id": "C_Kq4i_rVNyB",
        "outputId": "2e73af57-0f2d-4350-df60-85be2cef0f7b",
        "colab": {
          "base_uri": "https://localhost:8080/"
        }
      },
      "source": [
        "import pandas as pd\n",
        "import numpy as np\n",
        "df = pd.DataFrame({'A' : ['foo', 'bar', 'foo', 'bar',\n",
        "                          'foo', 'bar', 'foo', 'foo'],\n",
        "                   'B' : ['one', 'one', 'two', 'three',\n",
        "                          'two', 'two', 'one', 'three'],\n",
        "                   'C' : np.random.randn(8),\n",
        "                   'D' : np.random.randn(8)})\n",
        "df\n",
        "#please type your code below this line.\n",
        "group=df.groupby('A')\n",
        "print(\"Sum of the groups: \\n\",group.sum())\n",
        "print(\"3 least elements from the column D: \\n\",df['D'].nsmallest(3))\n",
        "print(\"3 largest elements from the column D which belongs to the group 'bar':\\n\",group['D'].get_group('bar').nlargest(3))"
      ],
      "execution_count": 1,
      "outputs": [
        {
          "output_type": "stream",
          "name": "stdout",
          "text": [
            "Sum of the groups: \n",
            "             C         D\n",
            "A                      \n",
            "bar -0.167905  0.166088\n",
            "foo -3.677085  0.432618\n",
            "3 least elements from the column D: \n",
            " 3   -1.178630\n",
            "4   -0.566457\n",
            "0   -0.500432\n",
            "Name: D, dtype: float64\n",
            "3 largest elements from the column D which belongs to the group 'bar':\n",
            " 1    1.449583\n",
            "5   -0.104864\n",
            "3   -1.178630\n",
            "Name: D, dtype: float64\n"
          ]
        }
      ]
    },
    {
      "cell_type": "markdown",
      "metadata": {
        "id": "68XLHGsrdHXb"
      },
      "source": [
        "2. Using the dataset given below,\n",
        "  - convert the dataset into a csv file.\n",
        "  - read the csv file just saved\n",
        "  - covert the dataset into a excel file.\n",
        "  - read the excel file just saved."
      ]
    },
    {
      "cell_type": "code",
      "metadata": {
        "id": "J4BOx3UZdVLV",
        "outputId": "1d9c582b-fc1e-4548-8212-0293220fd150",
        "colab": {
          "base_uri": "https://localhost:8080/"
        }
      },
      "source": [
        "import pandas as pd\n",
        "import numpy as np\n",
        "df = pd.DataFrame({'A' : ['foo', 'bar', 'foo', 'bar',\n",
        "                          'foo', 'bar', 'foo', 'foo'],\n",
        "                   'B' : ['one', 'one', 'two', 'three',\n",
        "                          'two', 'two', 'one', 'three'],\n",
        "                   'C' : np.random.randn(8),\n",
        "                   'D' : np.random.randn(8)})\n",
        "#please type your code below this line.\n",
        "print(df)\n",
        "df.to_csv('csvFile.csv')\n",
        "print(\"CSS FILE: \\n\",pd.read_csv('csvFile.csv'))\n",
        "df.to_excel('excelFile.xlsx')\n",
        "print(\"EXCEL FILE: \\n \",pd.read_excel('excelFile.xlsx'))"
      ],
      "execution_count": 2,
      "outputs": [
        {
          "output_type": "stream",
          "name": "stdout",
          "text": [
            "     A      B         C         D\n",
            "0  foo    one  0.310024 -1.428420\n",
            "1  bar    one -0.964752  2.026980\n",
            "2  foo    two -2.149682  0.632769\n",
            "3  bar  three -1.464823  0.120889\n",
            "4  foo    two -0.286127 -0.163888\n",
            "5  bar    two  0.344316 -0.363772\n",
            "6  foo    one -0.488555 -2.422062\n",
            "7  foo  three -2.303791 -0.498504\n",
            "CSS FILE: \n",
            "    Unnamed: 0    A      B         C         D\n",
            "0           0  foo    one  0.310024 -1.428420\n",
            "1           1  bar    one -0.964752  2.026980\n",
            "2           2  foo    two -2.149682  0.632769\n",
            "3           3  bar  three -1.464823  0.120889\n",
            "4           4  foo    two -0.286127 -0.163888\n",
            "5           5  bar    two  0.344316 -0.363772\n",
            "6           6  foo    one -0.488555 -2.422062\n",
            "7           7  foo  three -2.303791 -0.498504\n",
            "EXCEL FILE: \n",
            "     Unnamed: 0    A      B         C         D\n",
            "0           0  foo    one  0.310024 -1.428420\n",
            "1           1  bar    one -0.964752  2.026980\n",
            "2           2  foo    two -2.149682  0.632769\n",
            "3           3  bar  three -1.464823  0.120889\n",
            "4           4  foo    two -0.286127 -0.163888\n",
            "5           5  bar    two  0.344316 -0.363772\n",
            "6           6  foo    one -0.488555 -2.422062\n",
            "7           7  foo  three -2.303791 -0.498504\n"
          ]
        }
      ]
    }
  ]
}