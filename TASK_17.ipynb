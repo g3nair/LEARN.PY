{
  "nbformat": 4,
  "nbformat_minor": 0,
  "metadata": {
    "colab": {
      "name": "TASK 17.ipynb",
      "provenance": [],
      "include_colab_link": true
    },
    "kernelspec": {
      "name": "python3",
      "display_name": "Python 3"
    },
    "language_info": {
      "name": "python"
    }
  },
  "cells": [
    {
      "cell_type": "markdown",
      "metadata": {
        "id": "view-in-github",
        "colab_type": "text"
      },
      "source": [
        "<a href=\"https://colab.research.google.com/github/gaya3-b/LEARN.PY/blob/main/TASK_17.ipynb\" target=\"_parent\"><img src=\"https://colab.research.google.com/assets/colab-badge.svg\" alt=\"Open In Colab\"/></a>"
      ]
    },
    {
      "cell_type": "markdown",
      "metadata": {
        "id": "0SLapvpoaeYY"
      },
      "source": [
        "1. Create a DataFrame by passing a random numpy array,with a datetie index and labelled columns.and display its,\n",
        "     - Head\n",
        "     - Tail\n",
        "     - Index \n",
        "     - Columns\n",
        "     - Values\n",
        "     - statistics\n"
      ]
    },
    {
      "cell_type": "code",
      "metadata": {
        "id": "zJDkjyVxa5yU",
        "outputId": "4c4615e9-d9a7-401b-c180-7b098a372a59",
        "colab": {
          "base_uri": "https://localhost:8080/"
        }
      },
      "source": [
        "#please type your answer below this line.\n",
        "import numpy as np\n",
        "import pandas as pd\n",
        "datetie = pd.date_range('2021-08-24',periods=4)\n",
        "df = pd.DataFrame(np.random.randn(4,4), index=datetie, columns=list('ABCD'))\n",
        "print(\"Head:\\n\", df.head())\n",
        "print(\"Tail:\\n\", df.tail())\n",
        "print(\"Index:\\n\", df.index)\n",
        "print(\"Columns:\\n\", df.columns)\n",
        "print(\"Values:\\n\", df.values)\n",
        "print(\"Statistics:\\n\", df.describe(include='all'))"
      ],
      "execution_count": 1,
      "outputs": [
        {
          "output_type": "stream",
          "name": "stdout",
          "text": [
            "Head:\n",
            "                    A         B         C         D\n",
            "2021-08-24  0.949050  1.289264 -0.830205  0.084887\n",
            "2021-08-25  0.329984 -0.163477 -0.825139 -0.008752\n",
            "2021-08-26  0.943232 -1.259288  0.385874  0.189778\n",
            "2021-08-27  0.423634 -1.081256 -1.222128  0.066735\n",
            "Tail:\n",
            "                    A         B         C         D\n",
            "2021-08-24  0.949050  1.289264 -0.830205  0.084887\n",
            "2021-08-25  0.329984 -0.163477 -0.825139 -0.008752\n",
            "2021-08-26  0.943232 -1.259288  0.385874  0.189778\n",
            "2021-08-27  0.423634 -1.081256 -1.222128  0.066735\n",
            "Index:\n",
            " DatetimeIndex(['2021-08-24', '2021-08-25', '2021-08-26', '2021-08-27'], dtype='datetime64[ns]', freq='D')\n",
            "Columns:\n",
            " Index(['A', 'B', 'C', 'D'], dtype='object')\n",
            "Values:\n",
            " [[ 0.94904972  1.28926354 -0.83020455  0.08488654]\n",
            " [ 0.32998358 -0.16347657 -0.82513872 -0.00875249]\n",
            " [ 0.94323234 -1.25928781  0.3858738   0.18977757]\n",
            " [ 0.42363423 -1.08125588 -1.22212767  0.06673519]]\n",
            "Statistics:\n",
            "               A         B         C         D\n",
            "count  4.000000  4.000000  4.000000  4.000000\n",
            "mean   0.661475 -0.303689 -0.622899  0.083162\n",
            "std    0.330929  1.165467  0.697752  0.081829\n",
            "min    0.329984 -1.259288 -1.222128 -0.008752\n",
            "25%    0.400222 -1.125764 -0.928185  0.047863\n",
            "50%    0.683433 -0.622366 -0.827672  0.075811\n",
            "75%    0.944687  0.199708 -0.522386  0.111109\n",
            "max    0.949050  1.289264  0.385874  0.189778\n"
          ]
        }
      ]
    },
    {
      "cell_type": "markdown",
      "metadata": {
        "id": "xnkA2mKDdyoO"
      },
      "source": [
        "2. Use the above table and,\n",
        "      - find transpose of your data.\n",
        "      - sort the index in the descending order of the date."
      ]
    },
    {
      "cell_type": "code",
      "metadata": {
        "id": "uqcQSEOufJ5P",
        "outputId": "3766913b-0248-4357-f853-df0c4ee24f48",
        "colab": {
          "base_uri": "https://localhost:8080/"
        }
      },
      "source": [
        "#please provide your answer below this line.\n",
        "print(\"Transpose\\n\", df.transpose())\n",
        "print(\"Sorted in Descending Order\\n\", df.sort_index(ascending=False))"
      ],
      "execution_count": 2,
      "outputs": [
        {
          "output_type": "stream",
          "name": "stdout",
          "text": [
            "Transpose\n",
            "    2021-08-24  2021-08-25  2021-08-26  2021-08-27\n",
            "A    0.949050    0.329984    0.943232    0.423634\n",
            "B    1.289264   -0.163477   -1.259288   -1.081256\n",
            "C   -0.830205   -0.825139    0.385874   -1.222128\n",
            "D    0.084887   -0.008752    0.189778    0.066735\n",
            "Sorted in Descending Order\n",
            "                    A         B         C         D\n",
            "2021-08-27  0.423634 -1.081256 -1.222128  0.066735\n",
            "2021-08-26  0.943232 -1.259288  0.385874  0.189778\n",
            "2021-08-25  0.329984 -0.163477 -0.825139 -0.008752\n",
            "2021-08-24  0.949050  1.289264 -0.830205  0.084887\n"
          ]
        }
      ]
    },
    {
      "cell_type": "markdown",
      "metadata": {
        "id": "ss7s_8iDbAcL"
      },
      "source": [
        ""
      ]
    }
  ]
}