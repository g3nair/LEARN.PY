{
  "nbformat": 4,
  "nbformat_minor": 0,
  "metadata": {
    "colab": {
      "name": "TASK 18.ipynb",
      "provenance": [],
      "include_colab_link": true
    },
    "kernelspec": {
      "name": "python3",
      "display_name": "Python 3"
    },
    "language_info": {
      "name": "python"
    }
  },
  "cells": [
    {
      "cell_type": "markdown",
      "metadata": {
        "id": "view-in-github",
        "colab_type": "text"
      },
      "source": [
        "<a href=\"https://colab.research.google.com/github/gaya3-b/LEARN.PY/blob/main/TASK_18.ipynb\" target=\"_parent\"><img src=\"https://colab.research.google.com/assets/colab-badge.svg\" alt=\"Open In Colab\"/></a>"
      ]
    },
    {
      "cell_type": "markdown",
      "metadata": {
        "id": "_JgXT8pEAjU4"
      },
      "source": [
        "1. \n",
        "Create a DataFrame by passing a random numpy array,with a datetie index and labelled columns.and,\n",
        "    - slice its first three rows and display.\n",
        "    - slice its odd indexed rows.\n",
        "    - display the dates from 1st postion to 4 th position."
      ]
    },
    {
      "cell_type": "code",
      "metadata": {
        "id": "5zFM5VOJBKBV",
        "outputId": "3ad7c7c4-de5c-4505-d21b-9d0ddea221a6",
        "colab": {
          "base_uri": "https://localhost:8080/"
        }
      },
      "source": [
        "#please provide your answer below this line.\n",
        "import numpy as np\n",
        "import pandas as pd\n",
        "datetie = pd.date_range('2021-08-24',periods=8)\n",
        "df = pd.DataFrame(np.random.randn(8,6),index=datetie,columns=list('ABCDEF'))\n",
        "print(\"First three rows:\\n\",df.iloc[0:3])\n",
        "print(\"\\nodd indexed rows:\\n\",df.iloc[1::2])\n",
        "print(\"\\n1st position to 4 th position:\\n\",df.iloc[1:5])"
      ],
      "execution_count": 1,
      "outputs": [
        {
          "output_type": "stream",
          "name": "stdout",
          "text": [
            "First three rows:\n",
            "                    A         B         C         D         E         F\n",
            "2021-08-24  0.391920  1.153404  0.648607 -0.392021  1.318822 -0.957087\n",
            "2021-08-25 -0.975855  0.203137  1.888616  0.720378  1.707392  1.009922\n",
            "2021-08-26 -0.134498  1.499638  1.944956  0.005987 -0.287788 -1.839249\n",
            "\n",
            "odd indexed rows:\n",
            "                    A         B         C         D         E         F\n",
            "2021-08-25 -0.975855  0.203137  1.888616  0.720378  1.707392  1.009922\n",
            "2021-08-27 -0.675998 -0.631476  0.686827  1.086965 -0.367695  0.378191\n",
            "2021-08-29 -0.960548 -1.286220 -0.251756  0.215114  0.509971  1.333471\n",
            "2021-08-31 -1.989564 -0.150962  1.172774  0.065893 -0.728144 -0.028505\n",
            "\n",
            "1st position to 4 th position:\n",
            "                    A         B         C         D         E         F\n",
            "2021-08-25 -0.975855  0.203137  1.888616  0.720378  1.707392  1.009922\n",
            "2021-08-26 -0.134498  1.499638  1.944956  0.005987 -0.287788 -1.839249\n",
            "2021-08-27 -0.675998 -0.631476  0.686827  1.086965 -0.367695  0.378191\n",
            "2021-08-28 -0.495383  0.259125 -0.553758  0.048006 -0.390422  1.315128\n"
          ]
        }
      ]
    },
    {
      "cell_type": "markdown",
      "metadata": {
        "id": "QuoucvjxBPmX"
      },
      "source": [
        "2. Create a DataFrame by passing a random numpy array,with a datetie index and labelled columns.and\n",
        "  - Dislplay the index from the 1 to 3 date and the columns A and B of respective data.\n",
        "  - Display the datas at the 3rd index.\n",
        "  - Display datas from 2nd to 5th.\n",
        "  - Display the datas from the index 1,2,4 and the column 0 and 2."
      ]
    },
    {
      "cell_type": "code",
      "metadata": {
        "id": "qV_wzsp1DUKI",
        "outputId": "6c6d75a3-13ca-4a5e-99f2-21f2be8d9eed",
        "colab": {
          "base_uri": "https://localhost:8080/"
        }
      },
      "source": [
        "#please provide your answer below thins line.\n",
        "import numpy as np\n",
        "import pandas as pd\n",
        "datetie = pd.date_range('2021-08-24',periods=8)\n",
        "df=pd.DataFrame(np.random.randn(8,6),index=datetie, columns=list('ABCDEF'))\n",
        "print(\"Index 1 to 3 date and the columns A and B:\\n\",df.iloc[0:3,0:2])\n",
        "print(\"\\nDatas at the 3rd index:\\n\",df.iloc[3:4])\n",
        "print(\"\\nDatas from 2nd to 5th:\\n\",df.iloc[2:6])\n",
        "print(\"\\nDatas from the index 1,2,4 and the column 0 and 2:\\n\",df.iloc[[1,2,4],[0,2]])"
      ],
      "execution_count": 2,
      "outputs": [
        {
          "output_type": "stream",
          "name": "stdout",
          "text": [
            "Index 1 to 3 date and the columns A and B:\n",
            "                    A         B\n",
            "2021-08-24  0.750721  0.863319\n",
            "2021-08-25 -1.764730 -0.294449\n",
            "2021-08-26 -1.030401  0.859841\n",
            "\n",
            "Datas at the 3rd index:\n",
            "                    A         B         C         D         E         F\n",
            "2021-08-27 -2.259329  1.099908 -0.572353 -1.484613  0.326099 -1.252084\n",
            "\n",
            "Datas from 2nd to 5th:\n",
            "                    A         B         C         D         E         F\n",
            "2021-08-26 -1.030401  0.859841  0.615096  1.985930 -0.440152  0.411539\n",
            "2021-08-27 -2.259329  1.099908 -0.572353 -1.484613  0.326099 -1.252084\n",
            "2021-08-28  0.092542 -1.075268  1.970328 -1.033566 -0.730977  0.054097\n",
            "2021-08-29 -0.486950  0.208753  0.279525 -2.898763 -1.941301  0.495300\n",
            "\n",
            "Datas from the index 1,2,4 and the column 0 and 2:\n",
            "                    A         C\n",
            "2021-08-25 -1.764730  0.290492\n",
            "2021-08-26 -1.030401  0.615096\n",
            "2021-08-28  0.092542  1.970328\n"
          ]
        }
      ]
    }
  ]
}